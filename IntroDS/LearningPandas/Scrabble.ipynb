{
 "cells": [
  {
   "cell_type": "code",
   "execution_count": 36,
   "metadata": {},
   "outputs": [],
   "source": [
    "import numpy as np\n",
    "import pandas as pd\n",
    "\n",
    "#grid = np.zeros( (6,6), dtype = int )\n",
    "\n",
    "# this part is just setting up a test grid, with which to try out your pretty printer\n",
    "#aword = 'decaf'\n",
    "\n",
    "#x = 0   # where to put it\n",
    "#y = 3\n",
    "\n",
    "#for letter in aword:\n",
    "    #grid[ (y, x) ] = ord(letter) - 96\n",
    "    #x += 1\n",
    "    #if (x >= 6):\n",
    "        #break   # don't go outside the grid!\n",
    "\n",
    "#print(grid)"
   ]
  },
  {
   "cell_type": "code",
   "execution_count": 60,
   "metadata": {},
   "outputs": [],
   "source": [
    "def convert(num):\n",
    "    letter = ''\n",
    "    if(num == 0):\n",
    "        letter = ' '\n",
    "    elif(num >= 1 and num <= 6):\n",
    "        letter = chr(num+96)\n",
    "    return letter"
   ]
  },
  {
   "cell_type": "code",
   "execution_count": 61,
   "metadata": {},
   "outputs": [],
   "source": [
    "def putHoriz(string, grid, x, y):\n",
    "    originalGrid = grid\n",
    "    for letter in string:\n",
    "        if(grid[(y,x)] != 0 and grid[(y,x)] != ord(letter)-96):\n",
    "            return originalGrid\n",
    "            \n",
    "        grid[ (y, x) ] = ord(letter) - 96\n",
    "        x += 1\n",
    "    return grid"
   ]
  },
  {
   "cell_type": "code",
   "execution_count": 62,
   "metadata": {},
   "outputs": [],
   "source": [
    "def putVert(string, grid, x, y):\n",
    "    originalGrid = grid\n",
    "    for letter in aword:\n",
    "        if(grid[(y,x)] != 0 and grid[(y,x)] != ord(letter)-96):\n",
    "            return originalGrid\n",
    "        \n",
    "        grid[ (y, x) ] = ord(letter) - 96\n",
    "        y += 1\n",
    "    return grid"
   ]
  },
  {
   "cell_type": "code",
   "execution_count": 66,
   "metadata": {},
   "outputs": [
    {
     "name": "stdout",
     "output_type": "stream",
     "text": [
      "Picking word number 2 which is fade\n",
      "Try to put fade at 2 5\n",
      "The word does not fit vertically\n",
      "[[0 0 0 0 0 0]\n",
      " [0 0 0 0 0 0]\n",
      " [0 0 0 0 0 0]\n",
      " [0 0 0 0 0 0]\n",
      " [0 0 0 0 0 0]\n",
      " [0 0 6 1 4 5]]\n",
      "Picking word number 7 which is cade\n",
      "Try to put cade at 1 1\n",
      "[[0 0 0 0 0 0]\n",
      " [0 3 1 4 5 0]\n",
      " [0 0 0 0 0 0]\n",
      " [0 0 0 0 0 0]\n",
      " [0 0 0 0 0 0]\n",
      " [0 0 6 1 4 5]]\n",
      "Picking word number 6 which is cafe\n",
      "Try to put cafe at 3 0\n",
      "The word does not fit horizontally\n",
      "[[0 0 0 4 0 0]\n",
      " [0 3 1 4 5 0]\n",
      " [0 0 0 0 0 0]\n",
      " [0 0 0 0 0 0]\n",
      " [0 0 0 0 0 0]\n",
      " [0 0 6 1 4 5]]\n",
      "Picking word number 5 which is dace\n",
      "Try to put dace at 2 2\n",
      "[[0 0 0 4 0 0]\n",
      " [0 3 1 4 5 0]\n",
      " [0 0 4 1 3 5]\n",
      " [0 0 5 0 0 0]\n",
      " [0 0 3 0 0 0]\n",
      " [0 0 6 1 4 5]]\n",
      "Picking word number 5 which is dace\n",
      "Try to put dace at 0 2\n"
     ]
    },
    {
     "ename": "IndexError",
     "evalue": "index 6 is out of bounds for axis 0 with size 6",
     "output_type": "error",
     "traceback": [
      "\u001b[1;31m---------------------------------------------------------------------------\u001b[0m",
      "\u001b[1;31mIndexError\u001b[0m                                Traceback (most recent call last)",
      "\u001b[1;32m<ipython-input-66-d3448a30f979>\u001b[0m in \u001b[0;36m<module>\u001b[1;34m\u001b[0m\n\u001b[0;32m     29\u001b[0m         \u001b[0mgrid\u001b[0m \u001b[1;33m=\u001b[0m \u001b[0mputHoriz\u001b[0m\u001b[1;33m(\u001b[0m\u001b[0mwordlist\u001b[0m\u001b[1;33m[\u001b[0m\u001b[0mw\u001b[0m\u001b[1;33m]\u001b[0m\u001b[1;33m,\u001b[0m \u001b[0mgrid\u001b[0m\u001b[1;33m,\u001b[0m \u001b[0mx\u001b[0m\u001b[1;33m,\u001b[0m \u001b[0my\u001b[0m\u001b[1;33m)\u001b[0m\u001b[1;33m\u001b[0m\u001b[1;33m\u001b[0m\u001b[0m\n\u001b[0;32m     30\u001b[0m     \u001b[1;32mif\u001b[0m\u001b[1;33m(\u001b[0m\u001b[0mfit_vert\u001b[0m \u001b[1;33m==\u001b[0m \u001b[1;32mTrue\u001b[0m\u001b[1;33m)\u001b[0m\u001b[1;33m:\u001b[0m\u001b[1;33m\u001b[0m\u001b[1;33m\u001b[0m\u001b[0m\n\u001b[1;32m---> 31\u001b[1;33m         \u001b[0mgrid\u001b[0m \u001b[1;33m=\u001b[0m \u001b[0mputVert\u001b[0m\u001b[1;33m(\u001b[0m\u001b[0mwordlist\u001b[0m\u001b[1;33m[\u001b[0m\u001b[0mw\u001b[0m\u001b[1;33m]\u001b[0m\u001b[1;33m,\u001b[0m \u001b[0mgrid\u001b[0m\u001b[1;33m,\u001b[0m \u001b[0mx\u001b[0m\u001b[1;33m,\u001b[0m \u001b[0my\u001b[0m\u001b[1;33m)\u001b[0m\u001b[1;33m\u001b[0m\u001b[1;33m\u001b[0m\u001b[0m\n\u001b[0m\u001b[0;32m     32\u001b[0m \u001b[1;33m\u001b[0m\u001b[0m\n\u001b[0;32m     33\u001b[0m     \u001b[0mprint\u001b[0m\u001b[1;33m(\u001b[0m\u001b[0mgrid\u001b[0m\u001b[1;33m)\u001b[0m\u001b[1;33m\u001b[0m\u001b[1;33m\u001b[0m\u001b[0m\n",
      "\u001b[1;32m<ipython-input-62-179418e6a804>\u001b[0m in \u001b[0;36mputVert\u001b[1;34m(string, grid, x, y)\u001b[0m\n\u001b[0;32m      2\u001b[0m     \u001b[0moriginalGrid\u001b[0m \u001b[1;33m=\u001b[0m \u001b[0mgrid\u001b[0m\u001b[1;33m\u001b[0m\u001b[1;33m\u001b[0m\u001b[0m\n\u001b[0;32m      3\u001b[0m     \u001b[1;32mfor\u001b[0m \u001b[0mletter\u001b[0m \u001b[1;32min\u001b[0m \u001b[0maword\u001b[0m\u001b[1;33m:\u001b[0m\u001b[1;33m\u001b[0m\u001b[1;33m\u001b[0m\u001b[0m\n\u001b[1;32m----> 4\u001b[1;33m         \u001b[1;32mif\u001b[0m\u001b[1;33m(\u001b[0m\u001b[0mgrid\u001b[0m\u001b[1;33m[\u001b[0m\u001b[1;33m(\u001b[0m\u001b[0my\u001b[0m\u001b[1;33m,\u001b[0m\u001b[0mx\u001b[0m\u001b[1;33m)\u001b[0m\u001b[1;33m]\u001b[0m \u001b[1;33m!=\u001b[0m \u001b[1;36m0\u001b[0m \u001b[1;32mand\u001b[0m \u001b[0mgrid\u001b[0m\u001b[1;33m[\u001b[0m\u001b[1;33m(\u001b[0m\u001b[0my\u001b[0m\u001b[1;33m,\u001b[0m\u001b[0mx\u001b[0m\u001b[1;33m)\u001b[0m\u001b[1;33m]\u001b[0m \u001b[1;33m!=\u001b[0m \u001b[0mord\u001b[0m\u001b[1;33m(\u001b[0m\u001b[0mletter\u001b[0m\u001b[1;33m)\u001b[0m\u001b[1;33m-\u001b[0m\u001b[1;36m96\u001b[0m\u001b[1;33m)\u001b[0m\u001b[1;33m:\u001b[0m\u001b[1;33m\u001b[0m\u001b[1;33m\u001b[0m\u001b[0m\n\u001b[0m\u001b[0;32m      5\u001b[0m             \u001b[1;32mreturn\u001b[0m \u001b[0moriginalGrid\u001b[0m\u001b[1;33m\u001b[0m\u001b[1;33m\u001b[0m\u001b[0m\n\u001b[0;32m      6\u001b[0m \u001b[1;33m\u001b[0m\u001b[0m\n",
      "\u001b[1;31mIndexError\u001b[0m: index 6 is out of bounds for axis 0 with size 6"
     ]
    }
   ],
   "source": [
    "import random\n",
    "grid = np.zeros( (6,6), dtype = int )\n",
    "wordlist = [ 'faced', 'decaf', 'fade', 'face', 'deaf', 'dace', 'cafe', 'cade', 'bead', 'bade', 'aced', 'abed', 'fed', 'fad', 'fab', 'def', 'deb', 'dab', 'cad', 'cab', 'bed', 'bad', 'ace' ]\n",
    "\n",
    "count = 0\n",
    "\n",
    "while(count<5):\n",
    "    w = int(len(wordlist) * random.random())\n",
    "    print('Picking word number', w, 'which is', wordlist[w])\n",
    "\n",
    "    x = int(6 * random.random())\n",
    "    y = int(6 * random.random())\n",
    "\n",
    "    print('Try to put', wordlist[w], 'at', x, y)\n",
    "    fit_horiz = True\n",
    "    fit_vert = True\n",
    "    if(x + len(wordlist[w])>=6):\n",
    "        print('The word does not fit horizontally')\n",
    "        fit_horiz = False\n",
    "\n",
    "    if(int(y) + len(wordlist[w])>=6):\n",
    "        print('The word does not fit vertically')\n",
    "        fit_vert = False\n",
    "\n",
    "    if(fit_horiz == False and fit_vert == False):\n",
    "        print('The word does not fit anywhere :(')\n",
    "        \n",
    "    if(fit_horiz== True):\n",
    "        grid = putHoriz(wordlist[w], grid, x, y)\n",
    "    if(fit_vert == True):\n",
    "        grid = putVert(wordlist[w], grid, x, y)\n",
    "        \n",
    "    print(grid)\n",
    "        \n",
    "    count+=1"
   ]
  },
  {
   "cell_type": "code",
   "execution_count": 67,
   "metadata": {},
   "outputs": [],
   "source": [
    "def prettyprint(df):   \n",
    "    for row in df:\n",
    "        row_str = ''\n",
    "        for num in row:\n",
    "            row_str = row_str + convert(num) + ' '\n",
    "        print(row_str)\n",
    "        \n",
    "    "
   ]
  },
  {
   "cell_type": "code",
   "execution_count": 68,
   "metadata": {},
   "outputs": [
    {
     "name": "stdout",
     "output_type": "stream",
     "text": [
      "      d     \n",
      "  c a d e   \n",
      "d a d a c e \n",
      "e   e       \n",
      "c   c       \n",
      "a   f a d e \n",
      "[[0 0 0 4 0 0]\n",
      " [0 3 1 4 5 0]\n",
      " [4 1 4 1 3 5]\n",
      " [5 0 5 0 0 0]\n",
      " [3 0 3 0 0 0]\n",
      " [1 0 6 1 4 5]]\n"
     ]
    }
   ],
   "source": [
    "prettyprint(grid)\n",
    "print(grid)"
   ]
  },
  {
   "cell_type": "code",
   "execution_count": null,
   "metadata": {},
   "outputs": [],
   "source": []
  }
 ],
 "metadata": {
  "kernelspec": {
   "display_name": "Python 3",
   "language": "python",
   "name": "python3"
  },
  "language_info": {
   "codemirror_mode": {
    "name": "ipython",
    "version": 3
   },
   "file_extension": ".py",
   "mimetype": "text/x-python",
   "name": "python",
   "nbconvert_exporter": "python",
   "pygments_lexer": "ipython3",
   "version": "3.7.6"
  }
 },
 "nbformat": 4,
 "nbformat_minor": 4
}
