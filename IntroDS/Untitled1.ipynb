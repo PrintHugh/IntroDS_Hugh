{
 "cells": [
  {
   "cell_type": "code",
   "execution_count": 9,
   "metadata": {},
   "outputs": [],
   "source": [
    "fib = [1,1]\n",
    "while(True):\n",
    "    nextNum = fib[len(fib)-1]+fib[len(fib)-2]\n",
    "    if(nextNum <= 500):\n",
    "        fib.append(nextNum)\n",
    "    else:\n",
    "        break\n",
    "start_1 = 0\n",
    "start_2 = 0\n",
    "start_3 = 0\n",
    "start_4 = 0\n",
    "start_5 = 0\n",
    "start_6 = 0\n",
    "start_7 = 0\n",
    "start_8 = 0\n",
    "start_9 = 0\n",
    "        \n",
    "for num in fib:\n",
    "    while(num > 10):\n",
    "        num = int(num/10)\n",
    "    if(num  == 1):\n",
    "        start_1 +=1\n",
    "    elif(num == 2):\n",
    "        start_2 +=1\n",
    "    elif(num == 3):\n",
    "        start_3 +=1\n",
    "    elif(num == 4):\n",
    "        start_4 +=1\n",
    "    elif(num == 5): \n",
    "        start_5 +=1\n",
    "    elif(num == 6):\n",
    "        start_6 +=1\n",
    "    elif(num == 7):\n",
    "        start_7 +=1\n",
    "    elif(num == 8):\n",
    "        start_8 +=1\n",
    "    elif(num == 9):\n",
    "        start_9 +=1\n"
   ]
  },
  {
   "cell_type": "code",
   "execution_count": null,
   "metadata": {},
   "outputs": [],
   "source": []
  }
 ],
 "metadata": {
  "kernelspec": {
   "display_name": "Python 3",
   "language": "python",
   "name": "python3"
  },
  "language_info": {
   "codemirror_mode": {
    "name": "ipython",
    "version": 3
   },
   "file_extension": ".py",
   "mimetype": "text/x-python",
   "name": "python",
   "nbconvert_exporter": "python",
   "pygments_lexer": "ipython3",
   "version": "3.7.6"
  }
 },
 "nbformat": 4,
 "nbformat_minor": 4
}
