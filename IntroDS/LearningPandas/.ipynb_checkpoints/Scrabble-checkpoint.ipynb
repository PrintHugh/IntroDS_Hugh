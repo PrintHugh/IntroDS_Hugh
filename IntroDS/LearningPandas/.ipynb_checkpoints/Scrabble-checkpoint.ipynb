{
 "cells": [
  {
   "cell_type": "code",
   "execution_count": 3,
   "metadata": {},
   "outputs": [
    {
     "name": "stdout",
     "output_type": "stream",
     "text": [
      "[[0 0 0 0 0 0]\n",
      " [0 0 0 0 0 0]\n",
      " [0 0 0 0 0 0]\n",
      " [4 5 3 1 6 0]\n",
      " [0 0 0 0 0 0]\n",
      " [0 0 0 0 0 0]]\n"
     ]
    }
   ],
   "source": [
    "import numpy as np\n",
    "import pandas as pd\n",
    "\n",
    "grid = np.zeros( (6,6), dtype = int )\n",
    "\n",
    "# this part is just setting up a test grid, with which to try out your pretty printer\n",
    "aword = 'decaf'\n",
    "\n",
    "x = 0   # where to put it\n",
    "y = 3\n",
    "\n",
    "for letter in aword:\n",
    "    grid[ (y, x) ] = ord(letter) - 96\n",
    "    x += 1\n",
    "    if (x >= 6):\n",
    "        break   # don't go outside the grid!\n",
    "\n",
    "print(grid)"
   ]
  },
  {
   "cell_type": "code",
   "execution_count": 39,
   "metadata": {},
   "outputs": [
    {
     "name": "stdout",
     "output_type": "stream",
     "text": [
      "Picking word number 1 which is decaf\n",
      "Try to put decaf at 1 2\n"
     ]
    }
   ],
   "source": [
    "import random\n",
    "wordlist = [ 'faced', 'decaf', 'fade' ]\n",
    "\n",
    "w = int(len(wordlist) * random.random())\n",
    "print('Picking word number', w, 'which is', wordlist[w])\n",
    "\n",
    "x = int(6 * random.random())\n",
    "y = int(6 * random.random())\n",
    "\n",
    "print('Try to put', wordlist[w], 'at', x, y)\n",
    "fit_horiz = True\n",
    "fit_vert = True\n",
    "if(x + len(wordlist[w])>=6):\n",
    "    print('The word does not fit horizontally')\n",
    "    fit_horiz = False\n",
    "\n",
    "if(y + len(wordlist[w]>=6)):\n",
    "    print('The word does not fit vertically')\n",
    "    fit_vert = False\n",
    "    \n",
    "if(fit_horiz == False and fit_vert == False):\n",
    "    print('The word does not fit anywhere :(')"
   ]
  },
  {
   "cell_type": "code",
   "execution_count": 31,
   "metadata": {},
   "outputs": [],
   "source": [
    "def convert(num):\n",
    "    letter = ''\n",
    "    if(num == 0):\n",
    "        letter = ' '\n",
    "    elif(num >= 1 and num <= 6):\n",
    "        letter = chr(num+96)\n",
    "    return letter\n",
    "        "
   ]
  },
  {
   "cell_type": "code",
   "execution_count": 34,
   "metadata": {},
   "outputs": [],
   "source": [
    "def prettyprint(df):   \n",
    "    for row in df:\n",
    "        row_str = ''\n",
    "        for num in row:\n",
    "            row_str = row_str + convert(num) + ' '\n",
    "        print(row_str)\n",
    "        \n",
    "    "
   ]
  },
  {
   "cell_type": "code",
   "execution_count": 35,
   "metadata": {},
   "outputs": [
    {
     "name": "stdout",
     "output_type": "stream",
     "text": [
      "            \n",
      "            \n",
      "            \n",
      "d e c a f   \n",
      "            \n",
      "            \n"
     ]
    }
   ],
   "source": [
    "prettyprint(grid)"
   ]
  },
  {
   "cell_type": "code",
   "execution_count": null,
   "metadata": {},
   "outputs": [],
   "source": []
  }
 ],
 "metadata": {
  "kernelspec": {
   "display_name": "Python 3",
   "language": "python",
   "name": "python3"
  },
  "language_info": {
   "codemirror_mode": {
    "name": "ipython",
    "version": 3
   },
   "file_extension": ".py",
   "mimetype": "text/x-python",
   "name": "python",
   "nbconvert_exporter": "python",
   "pygments_lexer": "ipython3",
   "version": "3.7.6"
  }
 },
 "nbformat": 4,
 "nbformat_minor": 4
}
