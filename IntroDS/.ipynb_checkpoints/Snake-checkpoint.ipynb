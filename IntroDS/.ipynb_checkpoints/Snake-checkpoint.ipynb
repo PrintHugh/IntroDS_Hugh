{
 "cells": [
  {
   "cell_type": "code",
   "execution_count": 24,
   "metadata": {},
   "outputs": [],
   "source": [
    "#Direction: 0 = left, 1 = up, 2 = right, 3 = down\n",
    "\n",
    "def addNewPoint(direction, snake):\n",
    "    x = snake[0][0]\n",
    "    y = snake[0][1]\n",
    "    if(direction == 0):\n",
    "        x -= 1\n",
    "    elif(direction == 1): #Creating the New Front Point and putting into x and y\n",
    "        y += 1\n",
    "    elif(direction == 2):\n",
    "        x += 1\n",
    "    elif(direction == 3):\n",
    "        y -= 1\n",
    "       \n",
    "    \n",
    " \n",
    "    copied = snake[1]\n",
    "    replacer = snake[0]\n",
    "    for i in range(len(snake)-1):   #Shifting All Points back in the array\n",
    "        snake[i+1] = replacer\n",
    "        replacer = copied\n",
    "        if(i != len(snake)-2):\n",
    "            copied = snake[i+2]\n",
    "    \n",
    "    snake[0] = [x,y]\n",
    "    return snake\n",
    "        \n",
    "    \n",
    "    \n",
    "        \n",
    "    \n",
    "    "
   ]
  },
  {
   "cell_type": "code",
   "execution_count": 27,
   "metadata": {},
   "outputs": [
    {
     "name": "stdout",
     "output_type": "stream",
     "text": [
      "[[1, 1], [1, 2], [2, 2]]\n",
      "[[0, 1], [1, 1], [1, 2]]\n"
     ]
    }
   ],
   "source": [
    "#example\n",
    "snake = [[1,1],[1,2],[2,2]]\n",
    "print(snake)\n",
    "snake = addNewPoint(0,snake)\n",
    "print(snake)"
   ]
  },
  {
   "cell_type": "code",
   "execution_count": null,
   "metadata": {},
   "outputs": [],
   "source": []
  }
 ],
 "metadata": {
  "kernelspec": {
   "display_name": "Python 3",
   "language": "python",
   "name": "python3"
  },
  "language_info": {
   "codemirror_mode": {
    "name": "ipython",
    "version": 3
   },
   "file_extension": ".py",
   "mimetype": "text/x-python",
   "name": "python",
   "nbconvert_exporter": "python",
   "pygments_lexer": "ipython3",
   "version": "3.7.6"
  }
 },
 "nbformat": 4,
 "nbformat_minor": 4
}
