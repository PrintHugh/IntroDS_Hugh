{
 "cells": [
  {
   "cell_type": "code",
   "execution_count": 2,
   "metadata": {},
   "outputs": [],
   "source": [
    "from csv import reader\n",
    "import re\n",
    "import pandas as pd\n",
    "num = 2\n",
    "open_file = open('Shakespeare.txt', encoding='utf-8') #Before Split\n",
    "lst = open_file.read()\n",
    "\n",
    "#Before the split: Removing Digits, Newlines, and Stage Directions\n",
    "\n",
    "lst = re.sub('\\d|\\n|\\[.*\\]','',lst)                              \n",
    "\n",
    "#print(lst)\n",
    "lst = re.split('[.?!]',lst)    #Split into sentences by .|!|?\n",
    "new_lst = []\n",
    "\n",
    "#After the split: Removing the sentences that have a word with more than 1 capital.\n",
    "for row in lst:\n",
    "    bl = bool(re.search('[A-Z][A-Z]+', row))\n",
    "    if(bl == False):\n",
    "        new_lst.append(row)\n",
    "    \n",
    "#print(new_lst)       \n",
    "    \n",
    "\n",
    "    \n",
    "\n",
    "\n",
    "\n"
   ]
  },
  {
   "cell_type": "code",
   "execution_count": 3,
   "metadata": {},
   "outputs": [],
   "source": [
    "#Getting Every unique word into a dictionary with a corresponding list of following words.\n",
    "#Words at the end of sentence followed by period and words beginning come after a period.\n",
    "correlation = dict()\n",
    "correlation['.'] = []\n",
    "for row in new_lst:\n",
    "    row = row.split()\n",
    "    count = 0\n",
    "    if(len(row)!=0):      \n",
    "        correlation['.'].append(row[0])   #Creating the Period Key\n",
    "    for word in row:        \n",
    "        if correlation.get(word)==None:\n",
    "            correlation[word]=[]\n",
    "        if(count == len(row)-1):\n",
    "            correlation[word].append('.')\n",
    "        else:  \n",
    "            correlation[word].append(row[count+1])\n",
    "            count+=1\n",
    "       \n",
    "#print(correlation)       \n",
    "\n",
    "\n",
    "\n",
    "following_lists = []\n"
   ]
  },
  {
   "cell_type": "code",
   "execution_count": 96,
   "metadata": {},
   "outputs": [
    {
     "name": "stdout",
     "output_type": "stream",
     "text": [
      "My precious habit, but I fear some lady . When thou have shown it stand, That Edward hath put thy keen conceit; And I pray, Or climb up . Mark Antony . What are fair end . swagger himself have from the four . Where the pridge; the approach . This blue-ey'd hag . And yet we laugh'd with you are of a crow . Who art Merops' son- Yet then say you take her doors, and talk . Faith, yes, yes: Strangers and the strong but abound in my wroth . Why dost never I warrant him . what "
     ]
    }
   ],
   "source": [
    "import random\n",
    "shakespeare_length = 100\n",
    "previous_word = '.'\n",
    "for i in range(0,shakespeare_length):    #Looping 100 times to create a 100 word long shakespeare text where each word is a random word chosen from the list of words following the word in front.\n",
    "    current_word = random.choice(correlation[previous_word])\n",
    "    print(current_word, end = ' ')\n",
    "    previous_word = current_word"
   ]
  },
  {
   "cell_type": "code",
   "execution_count": null,
   "metadata": {},
   "outputs": [],
   "source": []
  }
 ],
 "metadata": {
  "kernelspec": {
   "display_name": "Python 3",
   "language": "python",
   "name": "python3"
  },
  "language_info": {
   "codemirror_mode": {
    "name": "ipython",
    "version": 3
   },
   "file_extension": ".py",
   "mimetype": "text/x-python",
   "name": "python",
   "nbconvert_exporter": "python",
   "pygments_lexer": "ipython3",
   "version": "3.7.6"
  }
 },
 "nbformat": 4,
 "nbformat_minor": 4
}
