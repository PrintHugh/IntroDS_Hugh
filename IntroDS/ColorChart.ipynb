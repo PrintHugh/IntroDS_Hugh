{
 "cells": [
  {
   "cell_type": "code",
   "execution_count": null,
   "metadata": {},
   "outputs": [
    {
     "name": "stdout",
     "output_type": "stream",
     "text": [
      "What color are you thinking of?RED\n",
      "The color RED requires  0  drop(s) of red\n"
     ]
    }
   ],
   "source": [
    "colors_known = ['RED','BLUE','GREEN','YELLOW','PURPLE','PEACH','ORANGE','LIME','BROWN','TURQUOISE','PINK','TEAL']\n",
    "count = 0\n",
    "\n",
    "recipes = [[20,0,0,0],\n",
    "           [0,20,0,0],\n",
    "           [0,0,20,0],\n",
    "           [0,0,0,20],\n",
    "           [5,1,0,0],\n",
    "           [1,0,0,3],\n",
    "           [3,0,0,5],\n",
    "           [0,0,1,3],\n",
    "           [3,0,3,4],\n",
    "           [0,4,1,0],\n",
    "           [14,6,0,0],\n",
    "           [0,5,15,0]\n",
    "          ]\n",
    "\n",
    "while(count <= 10):\n",
    "    color = input('What color are you thinking of?')\n",
    "    color = color.upper()\n",
    "    if color == 'WHITE':\n",
    "        print('Your not serious right? Boring color, Boring person.')\n",
    "        break\n",
    "    elif color == 'BLACK':\n",
    "        print('Ugh why this color. You are not very creative')\n",
    "        break\n",
    "    elif color not in colors_known:\n",
    "        print('Sorry I do not know that color.')\n",
    "    else:\n",
    "        index = colors_known.index(color)\n",
    "        recipe = recipes[index]\n",
    "        print('The color', color, 'requires ', recipe[0], ' drop(s) of red ', recipe[1], ' drops(s) of blue', recipe[2]\n",
    "              , ' drop(s) of green ', recipe[3], ' drop(s) of yellow.')\n",
    "        count += 1\n",
    "        \n",
    "\n",
    "print('That is enough eggs for now!')\n",
    "    \n",
    "#Red, Blue, Green, Yellow"
   ]
  },
  {
   "cell_type": "code",
   "execution_count": null,
   "metadata": {},
   "outputs": [],
   "source": []
  }
 ],
 "metadata": {
  "kernelspec": {
   "display_name": "Python 3",
   "language": "python",
   "name": "python3"
  },
  "language_info": {
   "codemirror_mode": {
    "name": "ipython",
    "version": 3
   },
   "file_extension": ".py",
   "mimetype": "text/x-python",
   "name": "python",
   "nbconvert_exporter": "python",
   "pygments_lexer": "ipython3",
   "version": "3.7.6"
  }
 },
 "nbformat": 4,
 "nbformat_minor": 4
}
